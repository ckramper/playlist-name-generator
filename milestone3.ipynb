{
 "cells": [
  {
   "cell_type": "code",
   "execution_count": 1,
   "metadata": {},
   "outputs": [
    {
     "ename": "ImportError",
     "evalue": "cannot import name 'multi_gpu_model' from 'tensorflow.keras.utils' (/Users/shivanimudhelli/miniforge3/envs/tensorflow/lib/python3.10/site-packages/keras/api/_v2/keras/utils/__init__.py)",
     "output_type": "error",
     "traceback": [
      "\u001b[0;31m---------------------------------------------------------------------------\u001b[0m",
      "\u001b[0;31mImportError\u001b[0m                               Traceback (most recent call last)",
      "\u001b[1;32m/Users/shivanimudhelli/Desktop/MLProject/milestone3.ipynb Cell 1\u001b[0m in \u001b[0;36m<cell line: 8>\u001b[0;34m()\u001b[0m\n\u001b[1;32m      <a href='vscode-notebook-cell:/Users/shivanimudhelli/Desktop/MLProject/milestone3.ipynb#W0sZmlsZQ%3D%3D?line=3'>4</a>\u001b[0m \u001b[39mimport\u001b[39;00m \u001b[39mcsv\u001b[39;00m\n\u001b[1;32m      <a href='vscode-notebook-cell:/Users/shivanimudhelli/Desktop/MLProject/milestone3.ipynb#W0sZmlsZQ%3D%3D?line=5'>6</a>\u001b[0m \u001b[39mimport\u001b[39;00m \u001b[39mtensorflow\u001b[39;00m \u001b[39mas\u001b[39;00m \u001b[39mtf\u001b[39;00m\n\u001b[0;32m----> <a href='vscode-notebook-cell:/Users/shivanimudhelli/Desktop/MLProject/milestone3.ipynb#W0sZmlsZQ%3D%3D?line=7'>8</a>\u001b[0m \u001b[39mimport\u001b[39;00m \u001b[39mtextgenrnn\u001b[39;00m\n",
      "File \u001b[0;32m~/miniforge3/envs/tensorflow/lib/python3.10/site-packages/textgenrnn/__init__.py:1\u001b[0m, in \u001b[0;36m<module>\u001b[0;34m\u001b[0m\n\u001b[0;32m----> 1\u001b[0m \u001b[39mfrom\u001b[39;00m \u001b[39m.\u001b[39;00m\u001b[39mtextgenrnn\u001b[39;00m \u001b[39mimport\u001b[39;00m textgenrnn\n",
      "File \u001b[0;32m~/miniforge3/envs/tensorflow/lib/python3.10/site-packages/textgenrnn/textgenrnn.py:5\u001b[0m, in \u001b[0;36m<module>\u001b[0;34m\u001b[0m\n\u001b[1;32m      3\u001b[0m \u001b[39mfrom\u001b[39;00m \u001b[39mtensorflow\u001b[39;00m\u001b[39m.\u001b[39;00m\u001b[39mkeras\u001b[39;00m\u001b[39m.\u001b[39;00m\u001b[39mpreprocessing\u001b[39;00m \u001b[39mimport\u001b[39;00m sequence\n\u001b[1;32m      4\u001b[0m \u001b[39mfrom\u001b[39;00m \u001b[39mtensorflow\u001b[39;00m\u001b[39m.\u001b[39;00m\u001b[39mkeras\u001b[39;00m\u001b[39m.\u001b[39;00m\u001b[39mpreprocessing\u001b[39;00m\u001b[39m.\u001b[39;00m\u001b[39mtext\u001b[39;00m \u001b[39mimport\u001b[39;00m Tokenizer, text_to_word_sequence\n\u001b[0;32m----> 5\u001b[0m \u001b[39mfrom\u001b[39;00m \u001b[39mtensorflow\u001b[39;00m\u001b[39m.\u001b[39;00m\u001b[39mkeras\u001b[39;00m\u001b[39m.\u001b[39;00m\u001b[39mutils\u001b[39;00m \u001b[39mimport\u001b[39;00m multi_gpu_model\n\u001b[1;32m      6\u001b[0m \u001b[39mfrom\u001b[39;00m \u001b[39mtensorflow\u001b[39;00m\u001b[39m.\u001b[39;00m\u001b[39mkeras\u001b[39;00m\u001b[39m.\u001b[39;00m\u001b[39moptimizers\u001b[39;00m \u001b[39mimport\u001b[39;00m Adam\n\u001b[1;32m      7\u001b[0m \u001b[39mfrom\u001b[39;00m \u001b[39mtensorflow\u001b[39;00m\u001b[39m.\u001b[39;00m\u001b[39mkeras\u001b[39;00m \u001b[39mimport\u001b[39;00m backend \u001b[39mas\u001b[39;00m K\n",
      "\u001b[0;31mImportError\u001b[0m: cannot import name 'multi_gpu_model' from 'tensorflow.keras.utils' (/Users/shivanimudhelli/miniforge3/envs/tensorflow/lib/python3.10/site-packages/keras/api/_v2/keras/utils/__init__.py)"
     ]
    }
   ],
   "source": [
    "import json\n",
    "import pandas as pd\n",
    "import random\n",
    "import csv\n",
    "\n",
    "import tensorflow as tf\n",
    "\n",
    "import textgenrnn\n"
   ]
  },
  {
   "cell_type": "code",
   "execution_count": null,
   "metadata": {},
   "outputs": [],
   "source": []
  },
  {
   "cell_type": "code",
   "execution_count": null,
   "metadata": {},
   "outputs": [],
   "source": [
    "f = open(\"/Users/shivanimudhelli/Downloads/spotify_million_playlist_dataset_challenge (1)/challenge_set.json\")"
   ]
  },
  {
   "cell_type": "code",
   "execution_count": null,
   "metadata": {},
   "outputs": [],
   "source": [
    "data = json.load(f)"
   ]
  },
  {
   "cell_type": "code",
   "execution_count": null,
   "metadata": {},
   "outputs": [
    {
     "name": "stdout",
     "output_type": "stream",
     "text": [
      "total num  10000\n",
      "not empty  9000\n"
     ]
    }
   ],
   "source": [
    "playlists = data['playlists']\n",
    "#print(len(data['playlists']))\n",
    "has_tracks = []\n",
    "print('total num ', len(playlists))\n",
    "\n",
    "for i in playlists:\n",
    "    if len(i['tracks']) != 0:\n",
    "        has_tracks.append(i)\n",
    "\n",
    "print('not empty ', len(has_tracks))"
   ]
  },
  {
   "cell_type": "code",
   "execution_count": null,
   "metadata": {},
   "outputs": [],
   "source": [
    "def track_list(tracks):\n",
    "    track_arr = []\n",
    "    for i in tracks:\n",
    "        track_arr.append(i['track_name'])\n",
    "\n",
    "    #print(track_arr)\n",
    "    return track_arr\n",
    "\n",
    "\n",
    "\n",
    "\n"
   ]
  },
  {
   "cell_type": "code",
   "execution_count": null,
   "metadata": {},
   "outputs": [
    {
     "name": "stdout",
     "output_type": "stream",
     "text": [
      "281000\n"
     ]
    }
   ],
   "source": [
    "def modify_data(name, tracklist):\n",
    "    new_dict = {}\n",
    "    new_dict['p_name'] = name\n",
    "    new_dict['tracks'] = tracklist\n",
    "    #print(new_dict)\n",
    "    return new_dict\n",
    "\n",
    "all_dicts = []\n",
    "all_tracks = []\n",
    "\n",
    "#print(has_tracks[1000])\n",
    "for p in has_tracks:\n",
    "    tarr = track_list(p['tracks'])\n",
    "    for t in tarr:\n",
    "        all_tracks.append(t)\n",
    "    \n",
    "    if('name' in p):\n",
    "        d = modify_data(p['name'], tarr)\n",
    "        all_dicts.append(d)\n",
    "        #print(len(all_dicts))\n",
    "\n",
    "\n",
    "#print(all_dicts)\n",
    "print(len(all_tracks))\n",
    "\n"
   ]
  },
  {
   "cell_type": "code",
   "execution_count": null,
   "metadata": {},
   "outputs": [
    {
     "name": "stdout",
     "output_type": "stream",
     "text": [
      "['Middle Of The Night', 'Stockholm', 'The Way You Look Tonight', 'How Do You Want to Be Remembered', \"I'm Sayin' (feat. Rich Homie Quan)\", 'California', 'Au Revoir (Adios)', 'Ms. Jackson', 'Lost on You', 'Freak The Freak Out']\n"
     ]
    }
   ],
   "source": [
    "\n",
    "\n",
    "def generate_random_tracklists(all_tracks):\n",
    "    rand_lst = random.sample(all_tracks, k=10)\n",
    "\n",
    "    return rand_lst\n",
    "\n",
    "rl = generate_random_tracklists(all_tracks)\n",
    "print(rl)"
   ]
  },
  {
   "cell_type": "code",
   "execution_count": null,
   "metadata": {},
   "outputs": [],
   "source": [
    "# open the file in the write mode\n",
    "with open('/Users/shivanimudhelli/Desktop/all_tracks.csv', 'w', newline='') as f:\n",
    "\n",
    "    # create the csv writer\n",
    "    writer = csv.writer(f, delimiter=',')\n",
    "\n",
    "    # write a row to the csv file\n",
    "    writer.writerow(all_tracks)\n",
    "\n",
    "# close the file\n",
    "f.close()\n"
   ]
  },
  {
   "cell_type": "code",
   "execution_count": null,
   "metadata": {},
   "outputs": [],
   "source": []
  }
 ],
 "metadata": {
  "kernelspec": {
   "display_name": "tensorflow",
   "language": "python",
   "name": "python3"
  },
  "language_info": {
   "codemirror_mode": {
    "name": "ipython",
    "version": 3
   },
   "file_extension": ".py",
   "mimetype": "text/x-python",
   "name": "python",
   "nbconvert_exporter": "python",
   "pygments_lexer": "ipython3",
   "version": "3.10.4"
  },
  "orig_nbformat": 4
 },
 "nbformat": 4,
 "nbformat_minor": 2
}
